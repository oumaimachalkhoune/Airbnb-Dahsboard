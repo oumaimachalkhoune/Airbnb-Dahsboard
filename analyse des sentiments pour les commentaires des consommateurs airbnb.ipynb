{
 "cells": [
  {
   "cell_type": "markdown",
   "id": "0ca215a0",
   "metadata": {},
   "source": [
    "# Importer des bibliothèques"
   ]
  },
  {
   "cell_type": "code",
   "execution_count": 1,
   "id": "1eaa9233",
   "metadata": {},
   "outputs": [],
   "source": [
    "import pandas as pd\n",
    "from textblob import TextBlob\n",
    "import matplotlib.pyplot as plt"
   ]
  },
  {
   "cell_type": "markdown",
   "id": "2b46710a",
   "metadata": {},
   "source": [
    "# Charger le fichier CSV"
   ]
  },
  {
   "cell_type": "code",
   "execution_count": 13,
   "id": "0d5c988a",
   "metadata": {},
   "outputs": [],
   "source": [
    "df = pd.read_csv(r\"C:\\Users\\anass\\OneDrive\\Bureau\\airbnb\\reviews_LA.csv\")"
   ]
  },
  {
   "cell_type": "markdown",
   "id": "7fe818bc",
   "metadata": {},
   "source": [
    "# EDA"
   ]
  },
  {
   "cell_type": "code",
   "execution_count": 14,
   "id": "697a9cde",
   "metadata": {},
   "outputs": [
    {
     "data": {
      "text/html": [
       "<div>\n",
       "<style scoped>\n",
       "    .dataframe tbody tr th:only-of-type {\n",
       "        vertical-align: middle;\n",
       "    }\n",
       "\n",
       "    .dataframe tbody tr th {\n",
       "        vertical-align: top;\n",
       "    }\n",
       "\n",
       "    .dataframe thead th {\n",
       "        text-align: right;\n",
       "    }\n",
       "</style>\n",
       "<table border=\"1\" class=\"dataframe\">\n",
       "  <thead>\n",
       "    <tr style=\"text-align: right;\">\n",
       "      <th></th>\n",
       "      <th>listing_id</th>\n",
       "      <th>id</th>\n",
       "      <th>date</th>\n",
       "      <th>reviewer_id</th>\n",
       "      <th>reviewer_name</th>\n",
       "      <th>comments</th>\n",
       "    </tr>\n",
       "  </thead>\n",
       "  <tbody>\n",
       "    <tr>\n",
       "      <th>0</th>\n",
       "      <td>8941071</td>\n",
       "      <td>68391055</td>\n",
       "      <td>2016-04-04</td>\n",
       "      <td>10164333</td>\n",
       "      <td>Smruti</td>\n",
       "      <td>Danielle was a great host, she was extremely r...</td>\n",
       "    </tr>\n",
       "    <tr>\n",
       "      <th>1</th>\n",
       "      <td>8941071</td>\n",
       "      <td>153719836</td>\n",
       "      <td>2017-05-21</td>\n",
       "      <td>97944097</td>\n",
       "      <td>Rob</td>\n",
       "      <td>The apartment was great for us to spend the we...</td>\n",
       "    </tr>\n",
       "    <tr>\n",
       "      <th>2</th>\n",
       "      <td>8941071</td>\n",
       "      <td>147589354</td>\n",
       "      <td>2017-04-27</td>\n",
       "      <td>4123723</td>\n",
       "      <td>Widya</td>\n",
       "      <td>Danielle is a great host, very concerned  with...</td>\n",
       "    </tr>\n",
       "    <tr>\n",
       "      <th>3</th>\n",
       "      <td>8941071</td>\n",
       "      <td>145742425</td>\n",
       "      <td>2017-04-19</td>\n",
       "      <td>1459499</td>\n",
       "      <td>Darian</td>\n",
       "      <td>Great location and spacious. Danielle's place ...</td>\n",
       "    </tr>\n",
       "    <tr>\n",
       "      <th>4</th>\n",
       "      <td>8941071</td>\n",
       "      <td>144400833</td>\n",
       "      <td>2017-04-15</td>\n",
       "      <td>98494277</td>\n",
       "      <td>Charlie</td>\n",
       "      <td>Danielle's place was as expected, really good ...</td>\n",
       "    </tr>\n",
       "  </tbody>\n",
       "</table>\n",
       "</div>"
      ],
      "text/plain": [
       "   listing_id         id        date  reviewer_id reviewer_name  \\\n",
       "0     8941071   68391055  2016-04-04     10164333        Smruti   \n",
       "1     8941071  153719836  2017-05-21     97944097           Rob   \n",
       "2     8941071  147589354  2017-04-27      4123723         Widya   \n",
       "3     8941071  145742425  2017-04-19      1459499        Darian   \n",
       "4     8941071  144400833  2017-04-15     98494277       Charlie   \n",
       "\n",
       "                                            comments  \n",
       "0  Danielle was a great host, she was extremely r...  \n",
       "1  The apartment was great for us to spend the we...  \n",
       "2  Danielle is a great host, very concerned  with...  \n",
       "3  Great location and spacious. Danielle's place ...  \n",
       "4  Danielle's place was as expected, really good ...  "
      ]
     },
     "execution_count": 14,
     "metadata": {},
     "output_type": "execute_result"
    }
   ],
   "source": [
    "df.head()"
   ]
  },
  {
   "cell_type": "code",
   "execution_count": 15,
   "id": "81083c69",
   "metadata": {},
   "outputs": [
    {
     "data": {
      "text/html": [
       "<div>\n",
       "<style scoped>\n",
       "    .dataframe tbody tr th:only-of-type {\n",
       "        vertical-align: middle;\n",
       "    }\n",
       "\n",
       "    .dataframe tbody tr th {\n",
       "        vertical-align: top;\n",
       "    }\n",
       "\n",
       "    .dataframe thead th {\n",
       "        text-align: right;\n",
       "    }\n",
       "</style>\n",
       "<table border=\"1\" class=\"dataframe\">\n",
       "  <thead>\n",
       "    <tr style=\"text-align: right;\">\n",
       "      <th></th>\n",
       "      <th>listing_id</th>\n",
       "      <th>id</th>\n",
       "      <th>date</th>\n",
       "      <th>reviewer_id</th>\n",
       "      <th>reviewer_name</th>\n",
       "      <th>comments</th>\n",
       "    </tr>\n",
       "  </thead>\n",
       "  <tbody>\n",
       "    <tr>\n",
       "      <th>1532920</th>\n",
       "      <td>837764720715019063</td>\n",
       "      <td>882048452895718293</td>\n",
       "      <td>2023-05-01</td>\n",
       "      <td>61709926</td>\n",
       "      <td>Xana</td>\n",
       "      <td>Alexis and David were incredible hosts - frien...</td>\n",
       "    </tr>\n",
       "    <tr>\n",
       "      <th>1532921</th>\n",
       "      <td>837764720715019063</td>\n",
       "      <td>866817204898142401</td>\n",
       "      <td>2023-04-10</td>\n",
       "      <td>20783675</td>\n",
       "      <td>Priscila</td>\n",
       "      <td>Such an amazing and beautiful place! David and...</td>\n",
       "    </tr>\n",
       "    <tr>\n",
       "      <th>1532922</th>\n",
       "      <td>837764720715019063</td>\n",
       "      <td>864618654800651449</td>\n",
       "      <td>2023-04-07</td>\n",
       "      <td>407565907</td>\n",
       "      <td>Petra</td>\n",
       "      <td>The owners were very kind and helpful. Beautif...</td>\n",
       "    </tr>\n",
       "    <tr>\n",
       "      <th>1532923</th>\n",
       "      <td>837764720715019063</td>\n",
       "      <td>850814630932374093</td>\n",
       "      <td>2023-03-19</td>\n",
       "      <td>129150527</td>\n",
       "      <td>Mike</td>\n",
       "      <td>Beautiful space and view, very friendly hosts,...</td>\n",
       "    </tr>\n",
       "    <tr>\n",
       "      <th>1532924</th>\n",
       "      <td>837764720715019063</td>\n",
       "      <td>966053148646013086</td>\n",
       "      <td>2023-08-25</td>\n",
       "      <td>19046935</td>\n",
       "      <td>Lorenzo</td>\n",
       "      <td>Posto bellissimo, cottage molto carino con vis...</td>\n",
       "    </tr>\n",
       "  </tbody>\n",
       "</table>\n",
       "</div>"
      ],
      "text/plain": [
       "                 listing_id                  id        date  reviewer_id  \\\n",
       "1532920  837764720715019063  882048452895718293  2023-05-01     61709926   \n",
       "1532921  837764720715019063  866817204898142401  2023-04-10     20783675   \n",
       "1532922  837764720715019063  864618654800651449  2023-04-07    407565907   \n",
       "1532923  837764720715019063  850814630932374093  2023-03-19    129150527   \n",
       "1532924  837764720715019063  966053148646013086  2023-08-25     19046935   \n",
       "\n",
       "        reviewer_name                                           comments  \n",
       "1532920          Xana  Alexis and David were incredible hosts - frien...  \n",
       "1532921      Priscila  Such an amazing and beautiful place! David and...  \n",
       "1532922         Petra  The owners were very kind and helpful. Beautif...  \n",
       "1532923          Mike  Beautiful space and view, very friendly hosts,...  \n",
       "1532924       Lorenzo  Posto bellissimo, cottage molto carino con vis...  "
      ]
     },
     "execution_count": 15,
     "metadata": {},
     "output_type": "execute_result"
    }
   ],
   "source": [
    "df.tail()"
   ]
  },
  {
   "cell_type": "code",
   "execution_count": 16,
   "id": "9614e753",
   "metadata": {
    "scrolled": true
   },
   "outputs": [
    {
     "name": "stdout",
     "output_type": "stream",
     "text": [
      "<class 'pandas.core.frame.DataFrame'>\n",
      "RangeIndex: 1532925 entries, 0 to 1532924\n",
      "Data columns (total 6 columns):\n",
      " #   Column         Non-Null Count    Dtype \n",
      "---  ------         --------------    ----- \n",
      " 0   listing_id     1532925 non-null  int64 \n",
      " 1   id             1532925 non-null  int64 \n",
      " 2   date           1532925 non-null  object\n",
      " 3   reviewer_id    1532925 non-null  int64 \n",
      " 4   reviewer_name  1532925 non-null  object\n",
      " 5   comments       1532639 non-null  object\n",
      "dtypes: int64(3), object(3)\n",
      "memory usage: 70.2+ MB\n"
     ]
    }
   ],
   "source": [
    "df.info()"
   ]
  },
  {
   "cell_type": "markdown",
   "id": "1d9f251d",
   "metadata": {},
   "source": [
    "#  Creation d'une fonction pour obtenir le sentiment"
   ]
  },
  {
   "cell_type": "code",
   "execution_count": 17,
   "id": "ffa2cbe4",
   "metadata": {},
   "outputs": [],
   "source": [
    "def get_sentiment(text):\n",
    "    if isinstance(text, float):\n",
    "        # Si c'est une valeur manquante, retournez 'Neutre' (ou ajustez selon vos besoins)\n",
    "        return 'Neutre'\n",
    "    \n",
    "    analysis = TextBlob(str(text))\n",
    "    # Vous pouvez ajuster ces seuils en fonction de vos besoins\n",
    "    if analysis.sentiment.polarity > 0:\n",
    "        return 'Positif'\n",
    "    elif analysis.sentiment.polarity < 0:\n",
    "        return 'Négatif'\n",
    "    else:\n",
    "        return 'Neutre'\n"
   ]
  },
  {
   "cell_type": "code",
   "execution_count": 18,
   "id": "011bd026",
   "metadata": {},
   "outputs": [
    {
     "name": "stdout",
     "output_type": "stream",
     "text": [
      "                                                  comments Sentiment\n",
      "0        Danielle was a great host, she was extremely r...   Positif\n",
      "1        The apartment was great for us to spend the we...   Positif\n",
      "2        Danielle is a great host, very concerned  with...   Positif\n",
      "3        Great location and spacious. Danielle's place ...   Positif\n",
      "4        Danielle's place was as expected, really good ...   Positif\n",
      "...                                                    ...       ...\n",
      "1532920  Alexis and David were incredible hosts - frien...   Positif\n",
      "1532921  Such an amazing and beautiful place! David and...   Positif\n",
      "1532922  The owners were very kind and helpful. Beautif...   Positif\n",
      "1532923  Beautiful space and view, very friendly hosts,...   Positif\n",
      "1532924  Posto bellissimo, cottage molto carino con vis...    Neutre\n",
      "\n",
      "[1532925 rows x 2 columns]\n"
     ]
    }
   ],
   "source": [
    "# Appliquer la fonction de sentiment à chaque commentaire\n",
    "df['Sentiment'] = df['comments'].apply(get_sentiment)\n",
    "\n",
    "# Afficher le résultat\n",
    "print(df[['comments', 'Sentiment']])\n"
   ]
  },
  {
   "cell_type": "markdown",
   "id": "400adbd2",
   "metadata": {},
   "source": [
    "# Compteur du nombre de commentaires par sentiment "
   ]
  },
  {
   "cell_type": "code",
   "execution_count": 26,
   "id": "e9044a6d",
   "metadata": {},
   "outputs": [
    {
     "name": "stdout",
     "output_type": "stream",
     "text": [
      "Nombre de commentaires positifs: 1432522\n",
      "Nombre de commentaires négatifs: 18760\n",
      "Nombre de commentaires neutres: 81643\n"
     ]
    }
   ],
   "source": [
    "sentiment_counts = df['Sentiment'].value_counts()\n",
    "\n",
    "# Afficher les résultats de manière détaillée\n",
    "print(\"Nombre de commentaires positifs:\", sentiment_counts['Positif'])\n",
    "print(\"Nombre de commentaires négatifs:\", sentiment_counts['Négatif'])\n",
    "print(\"Nombre de commentaires neutres:\", sentiment_counts['Neutre'])\n"
   ]
  },
  {
   "cell_type": "markdown",
   "id": "dec8cbe0",
   "metadata": {},
   "source": [
    "# Créer un graphique à barres"
   ]
  },
  {
   "cell_type": "code",
   "execution_count": 20,
   "id": "8f0475b3",
   "metadata": {},
   "outputs": [
    {
     "data": {
      "image/png": "[encoded data removed]",
      "text/plain": [
       "<Figure size 640x480 with 1 Axes>"
      ]
     },
     "metadata": {},
     "output_type": "display_data"
    }
   ],
   "source": [
    "plt.bar(sentiment_counts.index, sentiment_counts.values, color=['green', 'red', 'blue'])\n",
    "plt.title('Répartition des sentiments des commentaires')\n",
    "plt.xlabel('Sentiment')\n",
    "plt.ylabel('Nombre de commentaires')\n",
    "plt.show()"
   ]
  },
  {
   "cell_type": "markdown",
   "id": "22d73276",
   "metadata": {},
   "source": [
    "# TextBLOD testeur "
   ]
  },
  {
   "cell_type": "code",
   "execution_count": 30,
   "id": "29e8efd9",
   "metadata": {},
   "outputs": [
    {
     "name": "stdout",
     "output_type": "stream",
     "text": [
      "Entrez votre commentaire : happy\n",
      "Sentiment du commentaire : Positif\n"
     ]
    }
   ],
   "source": [
    "from textblob import TextBlob\n",
    "\n",
    "def analyser_sentiment(commentaire):\n",
    "    # Créer un objet TextBlob\n",
    "    blob = TextBlob(commentaire)\n",
    "\n",
    "    # Analyser le sentiment\n",
    "    sentiment = blob.sentiment.polarity\n",
    "\n",
    "    # Catégoriser le sentiment\n",
    "    if sentiment > 0:\n",
    "        return \"Positif\"\n",
    "    elif sentiment < 0:\n",
    "        return \"Négatif\"\n",
    "    else:\n",
    "        return \"Neutre\"\n",
    "\n",
    "# Exemple d'utilisation\n",
    "commentaire_utilisateur = input(\"Entrez votre commentaire : \")\n",
    "resultat_sentiment = analyser_sentiment(commentaire_utilisateur)\n",
    "print(f\"Sentiment du commentaire : {resultat_sentiment}\")\n"
   ]
  },
  {
   "cell_type": "code",
   "execution_count": null,
   "id": "46a70310",
   "metadata": {},
   "outputs": [],
   "source": []
  }
 ],
 "metadata": {
  "kernelspec": {
   "display_name": "Python 3 (ipykernel)",
   "language": "python",
   "name": "python3"
  },
  "language_info": {
   "codemirror_mode": {
    "name": "ipython",
    "version": 3
   },
   "file_extension": ".py",
   "mimetype": "text/x-python",
   "name": "python",
   "nbconvert_exporter": "python",
   "pygments_lexer": "ipython3",
   "version": "3.11.4"
  }
 },
 "nbformat": 4,
 "nbformat_minor": 5
}
